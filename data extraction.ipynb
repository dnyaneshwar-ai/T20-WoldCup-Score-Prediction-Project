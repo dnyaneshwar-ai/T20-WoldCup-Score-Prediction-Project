{
 "cells": [
  {
   "cell_type": "code",
   "execution_count": 1,
   "id": "345b34a9",
   "metadata": {},
   "outputs": [],
   "source": [
    "import numpy as np\n",
    "import pandas as pd\n",
    "from yaml import safe_load\n",
    "import os\n",
    "from tqdm import tqdm"
   ]
  },
  {
   "cell_type": "code",
   "execution_count": null,
   "id": "c0348d91",
   "metadata": {},
   "outputs": [],
   "source": [
    "filenames = []\n",
    "for file in os.listdir(r\"D:\\ds exel files\\t20s\"):\n",
    "    filenames.append(os.path.join(r\"D:\\ds exel files\\t20s\",file))"
   ]
  },
  {
   "cell_type": "code",
   "execution_count": null,
   "id": "5345aa3e",
   "metadata": {},
   "outputs": [],
   "source": [
    "filenames[0:5]  # code to conver yamal file into dataframe"
   ]
  },
  {
   "cell_type": "code",
   "execution_count": null,
   "id": "8f757925",
   "metadata": {},
   "outputs": [],
   "source": [
    "# code to conver yamal file into dataframe\n",
    "\n",
    "final_df = pd.DataFrame()  \n",
    "counter = 1\n",
    "for file in tqdm(filenames):\n",
    "    with open(file, 'r') as f:\n",
    "        df = pd.json_normalize(safe_load(f))\n",
    "        df['match_id'] = counter\n",
    "        final_df = final_df.append(df)\n",
    "        counter+=1\n",
    "        \n",
    "final_df"
   ]
  },
  {
   "cell_type": "code",
   "execution_count": null,
   "id": "d4a30a3f",
   "metadata": {},
   "outputs": [],
   "source": [
    "backup = final_df.copy()\n",
    "\n",
    "# only perpose backpuk the data"
   ]
  },
  {
   "cell_type": "code",
   "execution_count": null,
   "id": "f6a4a2a9",
   "metadata": {},
   "outputs": [],
   "source": [
    "final_df"
   ]
  },
  {
   "cell_type": "code",
   "execution_count": null,
   "id": "bc8b86e9",
   "metadata": {},
   "outputs": [],
   "source": [
    "# droping of unnecessory colums\n",
    "\n",
    "final_df.drop(columns=[\n",
    "    'meta.data_version',\n",
    "    'meta.created',\n",
    "    'meta.revision',\n",
    "    'info.outcome.bowl_out',\n",
    "    'info.bowl_out',\n",
    "    'info.supersubs.South Africa',\n",
    "    'info.supersubs.New Zealand',\n",
    "    'info.outcome.eliminator',\n",
    "    'info.outcome.result',\n",
    "    'info.outcome.method',\n",
    "    'info.neutral_venue',\n",
    "    'info.match_type_number',\n",
    "    'info.outcome.by.runs',\n",
    "    'info.outcome.by.wickets'\n",
    "],inplace=True)"
   ]
  },
  {
   "cell_type": "code",
   "execution_count": null,
   "id": "1bfd0354",
   "metadata": {},
   "outputs": [],
   "source": [
    "final_df"
   ]
  },
  {
   "cell_type": "code",
   "execution_count": null,
   "id": "7d97c881",
   "metadata": {},
   "outputs": [],
   "source": [
    "final_df['info.gender'].value_counts()"
   ]
  },
  {
   "cell_type": "code",
   "execution_count": null,
   "id": "d9b8c9df",
   "metadata": {},
   "outputs": [],
   "source": [
    "# we only required male data so delet female data\n",
    "\n",
    "final_df = final_df[final_df['info.gender'] == 'male']\n",
    "final_df.drop(columns=['info.gender'],inplace=True)\n",
    "final_df"
   ]
  },
  {
   "cell_type": "code",
   "execution_count": null,
   "id": "9f5e2087",
   "metadata": {},
   "outputs": [],
   "source": [
    "final_df['info.match_type'].value_counts()"
   ]
  },
  {
   "cell_type": "code",
   "execution_count": null,
   "id": "acffe0ae",
   "metadata": {},
   "outputs": [],
   "source": [
    "final_df['info.overs'].value_counts()"
   ]
  },
  {
   "cell_type": "code",
   "execution_count": null,
   "id": "d7d4aa64",
   "metadata": {
    "scrolled": true
   },
   "outputs": [],
   "source": [
    "# we only consider t20 data not 50 over data so sort out\n",
    "\n",
    "final_df = final_df[final_df['info.overs'] == 20]\n",
    "final_df.drop(columns=['info.overs','info.match_type'],inplace=True)\n",
    "final_df"
   ]
  },
  {
   "cell_type": "code",
   "execution_count": null,
   "id": "e98a8de4",
   "metadata": {},
   "outputs": [],
   "source": [
    "import pickle\n",
    "pickle.dump(final_df,open('dataset_level1.pkl','wb'))  #save the file"
   ]
  },
  {
   "cell_type": "code",
   "execution_count": null,
   "id": "1aea5c26",
   "metadata": {},
   "outputs": [],
   "source": [
    "matches = pickle.load(open('dataset_level1.pkl', 'rb'))      #open the model\n",
    "matches.iloc[0]['innings'][0]['1st innings']['deliveries']"
   ]
  },
  {
   "cell_type": "code",
   "execution_count": null,
   "id": "ede54b23",
   "metadata": {},
   "outputs": [],
   "source": [
    "count = 1\n",
    "delivery_df = pd.DataFrame()\n",
    "for index, row in matches.iterrows():\n",
    "    if count in [75,108,150,180,268,360,443,458,584,748,982,1052,1111,1226,1345]:\n",
    "        count+=1\n",
    "        continue\n",
    "    count+=1\n",
    "    ball_of_match = []\n",
    "    batsman = []\n",
    "    bowler = []\n",
    "    runs = []\n",
    "    player_of_dismissed = []\n",
    "    teams = []\n",
    "    batting_team = []\n",
    "    match_id = []\n",
    "    city = []\n",
    "    venue = []\n",
    "    for ball in row['innings'][0]['1st innings']['deliveries']:\n",
    "        for key in ball.keys():\n",
    "            match_id.append(count)\n",
    "            batting_team.append(row['innings'][0]['1st innings']['team'])\n",
    "            teams.append(row['info.teams'])\n",
    "            ball_of_match.append(key)\n",
    "            batsman.append(ball[key]['batsman'])\n",
    "            bowler.append(ball[key]['bowler'])\n",
    "            runs.append(ball[key]['runs']['total'])\n",
    "            city.append(row['info.city'])\n",
    "            venue.append(row['info.venue'])\n",
    "            try:\n",
    "                player_of_dismissed.append(ball[key]['wicket']['player_out'])\n",
    "            except:\n",
    "                player_of_dismissed.append('0')\n",
    "    loop_df = pd.DataFrame({\n",
    "            'match_id':match_id,\n",
    "            'teams':teams,\n",
    "            'batting_team':batting_team,\n",
    "            'ball':ball_of_match,\n",
    "            'batsman':batsman,\n",
    "            'bowler':bowler,\n",
    "            'runs':runs,\n",
    "            'player_dismissed':player_of_dismissed,\n",
    "            'city':city,\n",
    "            'venue':venue\n",
    "        })\n",
    "    delivery_df = delivery_df.append(loop_df)"
   ]
  },
  {
   "cell_type": "code",
   "execution_count": null,
   "id": "02728c49",
   "metadata": {},
   "outputs": [],
   "source": [
    "delivery_df"
   ]
  },
  {
   "cell_type": "code",
   "execution_count": null,
   "id": "ca289caf",
   "metadata": {},
   "outputs": [],
   "source": [
    "def bowl(row):\n",
    "    for team in row['teams']:\n",
    "        if team != row['batting_team']:\n",
    "            return team"
   ]
  },
  {
   "cell_type": "code",
   "execution_count": null,
   "id": "017fa7c9",
   "metadata": {},
   "outputs": [],
   "source": [
    "delivery_df['bowling_team'] = delivery_df.apply(bowl,axis=1)"
   ]
  },
  {
   "cell_type": "code",
   "execution_count": null,
   "id": "fd96a9a2",
   "metadata": {},
   "outputs": [],
   "source": [
    "delivery_df.drop(columns=['teams'],inplace=True)"
   ]
  },
  {
   "cell_type": "code",
   "execution_count": null,
   "id": "25f68386",
   "metadata": {},
   "outputs": [],
   "source": [
    "delivery_df['batting_team'].unique()"
   ]
  },
  {
   "cell_type": "code",
   "execution_count": null,
   "id": "e8942aa4",
   "metadata": {},
   "outputs": [],
   "source": [
    "teams = [\n",
    "    'Australia',\n",
    "    'India',\n",
    "    'Bangladesh',\n",
    "    'New Zealand',\n",
    "    'South Africa',\n",
    "    'England',\n",
    "    'West Indies',\n",
    "    'Afghanistan',\n",
    "    'Pakistan',\n",
    "    'Sri Lanka'    \n",
    "]"
   ]
  },
  {
   "cell_type": "code",
   "execution_count": null,
   "id": "bd373fb8",
   "metadata": {},
   "outputs": [],
   "source": [
    "delivery_df = delivery_df[delivery_df['batting_team'].isin(teams)]\n",
    "delivery_df = delivery_df[delivery_df['bowling_team'].isin(teams)]"
   ]
  },
  {
   "cell_type": "code",
   "execution_count": null,
   "id": "538f20de",
   "metadata": {},
   "outputs": [],
   "source": [
    "delivery_df"
   ]
  },
  {
   "cell_type": "code",
   "execution_count": null,
   "id": "cebd95e9",
   "metadata": {},
   "outputs": [],
   "source": [
    "output = delivery_df[['match_id','batting_team','bowling_team','ball','runs','player_dismissed','city','venue']]"
   ]
  },
  {
   "cell_type": "code",
   "execution_count": null,
   "id": "db41638f",
   "metadata": {},
   "outputs": [],
   "source": [
    "output"
   ]
  },
  {
   "cell_type": "code",
   "execution_count": null,
   "id": "9e0798f4",
   "metadata": {},
   "outputs": [],
   "source": [
    "pickle.dump(output,open('dataset_level2.pkl','wb'))  #save file here"
   ]
  },
  {
   "cell_type": "code",
   "execution_count": 118,
   "id": "c70a237a",
   "metadata": {},
   "outputs": [],
   "source": [
    "# import file\n",
    "import pickle\n",
    "output = pickle.load(open('dataset_level2.pkl', 'rb')) "
   ]
  }
 ],
 "metadata": {
  "kernelspec": {
   "display_name": "Python 3 (ipykernel)",
   "language": "python",
   "name": "python3"
  },
  "language_info": {
   "codemirror_mode": {
    "name": "ipython",
    "version": 3
   },
   "file_extension": ".py",
   "mimetype": "text/x-python",
   "name": "python",
   "nbconvert_exporter": "python",
   "pygments_lexer": "ipython3",
   "version": "3.9.13"
  }
 },
 "nbformat": 4,
 "nbformat_minor": 5
}
