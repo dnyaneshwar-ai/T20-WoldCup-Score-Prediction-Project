{
 "cells": [
  {
   "cell_type": "code",
   "execution_count": 1,
   "id": "0c56dc93",
   "metadata": {},
   "outputs": [],
   "source": [
    "import pandas as pd\n",
    "import pickle\n",
    "import numpy as np"
   ]
  },
  {
   "cell_type": "code",
   "execution_count": 2,
   "id": "4b35ea91",
   "metadata": {},
   "outputs": [],
   "source": [
    "import pickle\n",
    "df = pickle.load(open('first inning.pkl', 'rb')) "
   ]
  },
  {
   "cell_type": "code",
   "execution_count": 3,
   "id": "430b7239",
   "metadata": {},
   "outputs": [
    {
     "data": {
      "text/html": [
       "<div>\n",
       "<style scoped>\n",
       "    .dataframe tbody tr th:only-of-type {\n",
       "        vertical-align: middle;\n",
       "    }\n",
       "\n",
       "    .dataframe tbody tr th {\n",
       "        vertical-align: top;\n",
       "    }\n",
       "\n",
       "    .dataframe thead th {\n",
       "        text-align: right;\n",
       "    }\n",
       "</style>\n",
       "<table border=\"1\" class=\"dataframe\">\n",
       "  <thead>\n",
       "    <tr style=\"text-align: right;\">\n",
       "      <th></th>\n",
       "      <th>batting_team</th>\n",
       "      <th>bowling_team</th>\n",
       "      <th>city</th>\n",
       "      <th>current_score</th>\n",
       "      <th>balls_left</th>\n",
       "      <th>wickets_left</th>\n",
       "      <th>crr</th>\n",
       "      <th>last_five</th>\n",
       "      <th>runs_x</th>\n",
       "    </tr>\n",
       "  </thead>\n",
       "  <tbody>\n",
       "    <tr>\n",
       "      <th>42924</th>\n",
       "      <td>Australia</td>\n",
       "      <td>South Africa</td>\n",
       "      <td>Adelaide</td>\n",
       "      <td>96</td>\n",
       "      <td>38</td>\n",
       "      <td>6</td>\n",
       "      <td>7.024390</td>\n",
       "      <td>41.0</td>\n",
       "      <td>144</td>\n",
       "    </tr>\n",
       "    <tr>\n",
       "      <th>2781</th>\n",
       "      <td>Bangladesh</td>\n",
       "      <td>Sri Lanka</td>\n",
       "      <td>Colombo</td>\n",
       "      <td>64</td>\n",
       "      <td>79</td>\n",
       "      <td>7</td>\n",
       "      <td>9.365854</td>\n",
       "      <td>45.0</td>\n",
       "      <td>155</td>\n",
       "    </tr>\n",
       "    <tr>\n",
       "      <th>46212</th>\n",
       "      <td>Sri Lanka</td>\n",
       "      <td>West Indies</td>\n",
       "      <td>Pallekele</td>\n",
       "      <td>58</td>\n",
       "      <td>85</td>\n",
       "      <td>10</td>\n",
       "      <td>9.942857</td>\n",
       "      <td>48.0</td>\n",
       "      <td>215</td>\n",
       "    </tr>\n",
       "    <tr>\n",
       "      <th>49649</th>\n",
       "      <td>Pakistan</td>\n",
       "      <td>India</td>\n",
       "      <td>Mirpur</td>\n",
       "      <td>68</td>\n",
       "      <td>33</td>\n",
       "      <td>3</td>\n",
       "      <td>4.689655</td>\n",
       "      <td>22.0</td>\n",
       "      <td>83</td>\n",
       "    </tr>\n",
       "    <tr>\n",
       "      <th>21949</th>\n",
       "      <td>Sri Lanka</td>\n",
       "      <td>Pakistan</td>\n",
       "      <td>London</td>\n",
       "      <td>70</td>\n",
       "      <td>43</td>\n",
       "      <td>5</td>\n",
       "      <td>5.454545</td>\n",
       "      <td>26.0</td>\n",
       "      <td>138</td>\n",
       "    </tr>\n",
       "    <tr>\n",
       "      <th>...</th>\n",
       "      <td>...</td>\n",
       "      <td>...</td>\n",
       "      <td>...</td>\n",
       "      <td>...</td>\n",
       "      <td>...</td>\n",
       "      <td>...</td>\n",
       "      <td>...</td>\n",
       "      <td>...</td>\n",
       "      <td>...</td>\n",
       "    </tr>\n",
       "    <tr>\n",
       "      <th>38038</th>\n",
       "      <td>Pakistan</td>\n",
       "      <td>South Africa</td>\n",
       "      <td>Dubai</td>\n",
       "      <td>49</td>\n",
       "      <td>50</td>\n",
       "      <td>5</td>\n",
       "      <td>4.200000</td>\n",
       "      <td>27.0</td>\n",
       "      <td>98</td>\n",
       "    </tr>\n",
       "    <tr>\n",
       "      <th>49769</th>\n",
       "      <td>Bangladesh</td>\n",
       "      <td>Sri Lanka</td>\n",
       "      <td>Mirpur</td>\n",
       "      <td>113</td>\n",
       "      <td>22</td>\n",
       "      <td>6</td>\n",
       "      <td>6.918367</td>\n",
       "      <td>48.0</td>\n",
       "      <td>147</td>\n",
       "    </tr>\n",
       "    <tr>\n",
       "      <th>28098</th>\n",
       "      <td>Pakistan</td>\n",
       "      <td>South Africa</td>\n",
       "      <td>Abu Dhabi</td>\n",
       "      <td>68</td>\n",
       "      <td>43</td>\n",
       "      <td>5</td>\n",
       "      <td>5.298701</td>\n",
       "      <td>26.0</td>\n",
       "      <td>120</td>\n",
       "    </tr>\n",
       "    <tr>\n",
       "      <th>33040</th>\n",
       "      <td>Pakistan</td>\n",
       "      <td>India</td>\n",
       "      <td>Colombo</td>\n",
       "      <td>73</td>\n",
       "      <td>50</td>\n",
       "      <td>5</td>\n",
       "      <td>6.257143</td>\n",
       "      <td>30.0</td>\n",
       "      <td>128</td>\n",
       "    </tr>\n",
       "    <tr>\n",
       "      <th>4782</th>\n",
       "      <td>Sri Lanka</td>\n",
       "      <td>Pakistan</td>\n",
       "      <td>Abu Dhabi</td>\n",
       "      <td>54</td>\n",
       "      <td>67</td>\n",
       "      <td>9</td>\n",
       "      <td>6.113208</td>\n",
       "      <td>32.0</td>\n",
       "      <td>124</td>\n",
       "    </tr>\n",
       "  </tbody>\n",
       "</table>\n",
       "<p>38477 rows × 9 columns</p>\n",
       "</div>"
      ],
      "text/plain": [
       "      batting_team  bowling_team       city  current_score  balls_left  \\\n",
       "42924    Australia  South Africa   Adelaide             96          38   \n",
       "2781    Bangladesh     Sri Lanka    Colombo             64          79   \n",
       "46212    Sri Lanka   West Indies  Pallekele             58          85   \n",
       "49649     Pakistan         India     Mirpur             68          33   \n",
       "21949    Sri Lanka      Pakistan     London             70          43   \n",
       "...            ...           ...        ...            ...         ...   \n",
       "38038     Pakistan  South Africa      Dubai             49          50   \n",
       "49769   Bangladesh     Sri Lanka     Mirpur            113          22   \n",
       "28098     Pakistan  South Africa  Abu Dhabi             68          43   \n",
       "33040     Pakistan         India    Colombo             73          50   \n",
       "4782     Sri Lanka      Pakistan  Abu Dhabi             54          67   \n",
       "\n",
       "       wickets_left       crr  last_five  runs_x  \n",
       "42924             6  7.024390       41.0     144  \n",
       "2781              7  9.365854       45.0     155  \n",
       "46212            10  9.942857       48.0     215  \n",
       "49649             3  4.689655       22.0      83  \n",
       "21949             5  5.454545       26.0     138  \n",
       "...             ...       ...        ...     ...  \n",
       "38038             5  4.200000       27.0      98  \n",
       "49769             6  6.918367       48.0     147  \n",
       "28098             5  5.298701       26.0     120  \n",
       "33040             5  6.257143       30.0     128  \n",
       "4782              9  6.113208       32.0     124  \n",
       "\n",
       "[38477 rows x 9 columns]"
      ]
     },
     "execution_count": 3,
     "metadata": {},
     "output_type": "execute_result"
    }
   ],
   "source": [
    "df"
   ]
  },
  {
   "cell_type": "code",
   "execution_count": 4,
   "id": "ab772e5c",
   "metadata": {},
   "outputs": [
    {
     "data": {
      "text/html": [
       "<div>\n",
       "<style scoped>\n",
       "    .dataframe tbody tr th:only-of-type {\n",
       "        vertical-align: middle;\n",
       "    }\n",
       "\n",
       "    .dataframe tbody tr th {\n",
       "        vertical-align: top;\n",
       "    }\n",
       "\n",
       "    .dataframe thead th {\n",
       "        text-align: right;\n",
       "    }\n",
       "</style>\n",
       "<table border=\"1\" class=\"dataframe\">\n",
       "  <thead>\n",
       "    <tr style=\"text-align: right;\">\n",
       "      <th></th>\n",
       "      <th>current_score</th>\n",
       "      <th>balls_left</th>\n",
       "      <th>wickets_left</th>\n",
       "      <th>crr</th>\n",
       "      <th>last_five</th>\n",
       "      <th>runs_x</th>\n",
       "      <th>batting_team_Australia</th>\n",
       "      <th>batting_team_Bangladesh</th>\n",
       "      <th>batting_team_England</th>\n",
       "      <th>batting_team_India</th>\n",
       "      <th>...</th>\n",
       "      <th>city_Mumbai</th>\n",
       "      <th>city_Nagpur</th>\n",
       "      <th>city_Nottingham</th>\n",
       "      <th>city_Pallekele</th>\n",
       "      <th>city_Southampton</th>\n",
       "      <th>city_St Kitts</th>\n",
       "      <th>city_St Lucia</th>\n",
       "      <th>city_Sydney</th>\n",
       "      <th>city_Trinidad</th>\n",
       "      <th>city_Wellington</th>\n",
       "    </tr>\n",
       "  </thead>\n",
       "  <tbody>\n",
       "    <tr>\n",
       "      <th>42924</th>\n",
       "      <td>96</td>\n",
       "      <td>38</td>\n",
       "      <td>6</td>\n",
       "      <td>7.024390</td>\n",
       "      <td>41.0</td>\n",
       "      <td>144</td>\n",
       "      <td>1</td>\n",
       "      <td>0</td>\n",
       "      <td>0</td>\n",
       "      <td>0</td>\n",
       "      <td>...</td>\n",
       "      <td>0</td>\n",
       "      <td>0</td>\n",
       "      <td>0</td>\n",
       "      <td>0</td>\n",
       "      <td>0</td>\n",
       "      <td>0</td>\n",
       "      <td>0</td>\n",
       "      <td>0</td>\n",
       "      <td>0</td>\n",
       "      <td>0</td>\n",
       "    </tr>\n",
       "    <tr>\n",
       "      <th>2781</th>\n",
       "      <td>64</td>\n",
       "      <td>79</td>\n",
       "      <td>7</td>\n",
       "      <td>9.365854</td>\n",
       "      <td>45.0</td>\n",
       "      <td>155</td>\n",
       "      <td>0</td>\n",
       "      <td>1</td>\n",
       "      <td>0</td>\n",
       "      <td>0</td>\n",
       "      <td>...</td>\n",
       "      <td>0</td>\n",
       "      <td>0</td>\n",
       "      <td>0</td>\n",
       "      <td>0</td>\n",
       "      <td>0</td>\n",
       "      <td>0</td>\n",
       "      <td>0</td>\n",
       "      <td>0</td>\n",
       "      <td>0</td>\n",
       "      <td>0</td>\n",
       "    </tr>\n",
       "    <tr>\n",
       "      <th>46212</th>\n",
       "      <td>58</td>\n",
       "      <td>85</td>\n",
       "      <td>10</td>\n",
       "      <td>9.942857</td>\n",
       "      <td>48.0</td>\n",
       "      <td>215</td>\n",
       "      <td>0</td>\n",
       "      <td>0</td>\n",
       "      <td>0</td>\n",
       "      <td>0</td>\n",
       "      <td>...</td>\n",
       "      <td>0</td>\n",
       "      <td>0</td>\n",
       "      <td>0</td>\n",
       "      <td>1</td>\n",
       "      <td>0</td>\n",
       "      <td>0</td>\n",
       "      <td>0</td>\n",
       "      <td>0</td>\n",
       "      <td>0</td>\n",
       "      <td>0</td>\n",
       "    </tr>\n",
       "    <tr>\n",
       "      <th>49649</th>\n",
       "      <td>68</td>\n",
       "      <td>33</td>\n",
       "      <td>3</td>\n",
       "      <td>4.689655</td>\n",
       "      <td>22.0</td>\n",
       "      <td>83</td>\n",
       "      <td>0</td>\n",
       "      <td>0</td>\n",
       "      <td>0</td>\n",
       "      <td>0</td>\n",
       "      <td>...</td>\n",
       "      <td>0</td>\n",
       "      <td>0</td>\n",
       "      <td>0</td>\n",
       "      <td>0</td>\n",
       "      <td>0</td>\n",
       "      <td>0</td>\n",
       "      <td>0</td>\n",
       "      <td>0</td>\n",
       "      <td>0</td>\n",
       "      <td>0</td>\n",
       "    </tr>\n",
       "    <tr>\n",
       "      <th>21949</th>\n",
       "      <td>70</td>\n",
       "      <td>43</td>\n",
       "      <td>5</td>\n",
       "      <td>5.454545</td>\n",
       "      <td>26.0</td>\n",
       "      <td>138</td>\n",
       "      <td>0</td>\n",
       "      <td>0</td>\n",
       "      <td>0</td>\n",
       "      <td>0</td>\n",
       "      <td>...</td>\n",
       "      <td>0</td>\n",
       "      <td>0</td>\n",
       "      <td>0</td>\n",
       "      <td>0</td>\n",
       "      <td>0</td>\n",
       "      <td>0</td>\n",
       "      <td>0</td>\n",
       "      <td>0</td>\n",
       "      <td>0</td>\n",
       "      <td>0</td>\n",
       "    </tr>\n",
       "    <tr>\n",
       "      <th>...</th>\n",
       "      <td>...</td>\n",
       "      <td>...</td>\n",
       "      <td>...</td>\n",
       "      <td>...</td>\n",
       "      <td>...</td>\n",
       "      <td>...</td>\n",
       "      <td>...</td>\n",
       "      <td>...</td>\n",
       "      <td>...</td>\n",
       "      <td>...</td>\n",
       "      <td>...</td>\n",
       "      <td>...</td>\n",
       "      <td>...</td>\n",
       "      <td>...</td>\n",
       "      <td>...</td>\n",
       "      <td>...</td>\n",
       "      <td>...</td>\n",
       "      <td>...</td>\n",
       "      <td>...</td>\n",
       "      <td>...</td>\n",
       "      <td>...</td>\n",
       "    </tr>\n",
       "    <tr>\n",
       "      <th>38038</th>\n",
       "      <td>49</td>\n",
       "      <td>50</td>\n",
       "      <td>5</td>\n",
       "      <td>4.200000</td>\n",
       "      <td>27.0</td>\n",
       "      <td>98</td>\n",
       "      <td>0</td>\n",
       "      <td>0</td>\n",
       "      <td>0</td>\n",
       "      <td>0</td>\n",
       "      <td>...</td>\n",
       "      <td>0</td>\n",
       "      <td>0</td>\n",
       "      <td>0</td>\n",
       "      <td>0</td>\n",
       "      <td>0</td>\n",
       "      <td>0</td>\n",
       "      <td>0</td>\n",
       "      <td>0</td>\n",
       "      <td>0</td>\n",
       "      <td>0</td>\n",
       "    </tr>\n",
       "    <tr>\n",
       "      <th>49769</th>\n",
       "      <td>113</td>\n",
       "      <td>22</td>\n",
       "      <td>6</td>\n",
       "      <td>6.918367</td>\n",
       "      <td>48.0</td>\n",
       "      <td>147</td>\n",
       "      <td>0</td>\n",
       "      <td>1</td>\n",
       "      <td>0</td>\n",
       "      <td>0</td>\n",
       "      <td>...</td>\n",
       "      <td>0</td>\n",
       "      <td>0</td>\n",
       "      <td>0</td>\n",
       "      <td>0</td>\n",
       "      <td>0</td>\n",
       "      <td>0</td>\n",
       "      <td>0</td>\n",
       "      <td>0</td>\n",
       "      <td>0</td>\n",
       "      <td>0</td>\n",
       "    </tr>\n",
       "    <tr>\n",
       "      <th>28098</th>\n",
       "      <td>68</td>\n",
       "      <td>43</td>\n",
       "      <td>5</td>\n",
       "      <td>5.298701</td>\n",
       "      <td>26.0</td>\n",
       "      <td>120</td>\n",
       "      <td>0</td>\n",
       "      <td>0</td>\n",
       "      <td>0</td>\n",
       "      <td>0</td>\n",
       "      <td>...</td>\n",
       "      <td>0</td>\n",
       "      <td>0</td>\n",
       "      <td>0</td>\n",
       "      <td>0</td>\n",
       "      <td>0</td>\n",
       "      <td>0</td>\n",
       "      <td>0</td>\n",
       "      <td>0</td>\n",
       "      <td>0</td>\n",
       "      <td>0</td>\n",
       "    </tr>\n",
       "    <tr>\n",
       "      <th>33040</th>\n",
       "      <td>73</td>\n",
       "      <td>50</td>\n",
       "      <td>5</td>\n",
       "      <td>6.257143</td>\n",
       "      <td>30.0</td>\n",
       "      <td>128</td>\n",
       "      <td>0</td>\n",
       "      <td>0</td>\n",
       "      <td>0</td>\n",
       "      <td>0</td>\n",
       "      <td>...</td>\n",
       "      <td>0</td>\n",
       "      <td>0</td>\n",
       "      <td>0</td>\n",
       "      <td>0</td>\n",
       "      <td>0</td>\n",
       "      <td>0</td>\n",
       "      <td>0</td>\n",
       "      <td>0</td>\n",
       "      <td>0</td>\n",
       "      <td>0</td>\n",
       "    </tr>\n",
       "    <tr>\n",
       "      <th>4782</th>\n",
       "      <td>54</td>\n",
       "      <td>67</td>\n",
       "      <td>9</td>\n",
       "      <td>6.113208</td>\n",
       "      <td>32.0</td>\n",
       "      <td>124</td>\n",
       "      <td>0</td>\n",
       "      <td>0</td>\n",
       "      <td>0</td>\n",
       "      <td>0</td>\n",
       "      <td>...</td>\n",
       "      <td>0</td>\n",
       "      <td>0</td>\n",
       "      <td>0</td>\n",
       "      <td>0</td>\n",
       "      <td>0</td>\n",
       "      <td>0</td>\n",
       "      <td>0</td>\n",
       "      <td>0</td>\n",
       "      <td>0</td>\n",
       "      <td>0</td>\n",
       "    </tr>\n",
       "  </tbody>\n",
       "</table>\n",
       "<p>38477 rows × 58 columns</p>\n",
       "</div>"
      ],
      "text/plain": [
       "       current_score  balls_left  wickets_left       crr  last_five  runs_x  \\\n",
       "42924             96          38             6  7.024390       41.0     144   \n",
       "2781              64          79             7  9.365854       45.0     155   \n",
       "46212             58          85            10  9.942857       48.0     215   \n",
       "49649             68          33             3  4.689655       22.0      83   \n",
       "21949             70          43             5  5.454545       26.0     138   \n",
       "...              ...         ...           ...       ...        ...     ...   \n",
       "38038             49          50             5  4.200000       27.0      98   \n",
       "49769            113          22             6  6.918367       48.0     147   \n",
       "28098             68          43             5  5.298701       26.0     120   \n",
       "33040             73          50             5  6.257143       30.0     128   \n",
       "4782              54          67             9  6.113208       32.0     124   \n",
       "\n",
       "       batting_team_Australia  batting_team_Bangladesh  batting_team_England  \\\n",
       "42924                       1                        0                     0   \n",
       "2781                        0                        1                     0   \n",
       "46212                       0                        0                     0   \n",
       "49649                       0                        0                     0   \n",
       "21949                       0                        0                     0   \n",
       "...                       ...                      ...                   ...   \n",
       "38038                       0                        0                     0   \n",
       "49769                       0                        1                     0   \n",
       "28098                       0                        0                     0   \n",
       "33040                       0                        0                     0   \n",
       "4782                        0                        0                     0   \n",
       "\n",
       "       batting_team_India  ...  city_Mumbai  city_Nagpur  city_Nottingham  \\\n",
       "42924                   0  ...            0            0                0   \n",
       "2781                    0  ...            0            0                0   \n",
       "46212                   0  ...            0            0                0   \n",
       "49649                   0  ...            0            0                0   \n",
       "21949                   0  ...            0            0                0   \n",
       "...                   ...  ...          ...          ...              ...   \n",
       "38038                   0  ...            0            0                0   \n",
       "49769                   0  ...            0            0                0   \n",
       "28098                   0  ...            0            0                0   \n",
       "33040                   0  ...            0            0                0   \n",
       "4782                    0  ...            0            0                0   \n",
       "\n",
       "       city_Pallekele  city_Southampton  city_St Kitts  city_St Lucia  \\\n",
       "42924               0                 0              0              0   \n",
       "2781                0                 0              0              0   \n",
       "46212               1                 0              0              0   \n",
       "49649               0                 0              0              0   \n",
       "21949               0                 0              0              0   \n",
       "...               ...               ...            ...            ...   \n",
       "38038               0                 0              0              0   \n",
       "49769               0                 0              0              0   \n",
       "28098               0                 0              0              0   \n",
       "33040               0                 0              0              0   \n",
       "4782                0                 0              0              0   \n",
       "\n",
       "       city_Sydney  city_Trinidad  city_Wellington  \n",
       "42924            0              0                0  \n",
       "2781             0              0                0  \n",
       "46212            0              0                0  \n",
       "49649            0              0                0  \n",
       "21949            0              0                0  \n",
       "...            ...            ...              ...  \n",
       "38038            0              0                0  \n",
       "49769            0              0                0  \n",
       "28098            0              0                0  \n",
       "33040            0              0                0  \n",
       "4782             0              0                0  \n",
       "\n",
       "[38477 rows x 58 columns]"
      ]
     },
     "execution_count": 4,
     "metadata": {},
     "output_type": "execute_result"
    }
   ],
   "source": [
    "df = pd.get_dummies(df, drop_first=True)\n",
    "df"
   ]
  },
  {
   "cell_type": "markdown",
   "id": "6a22b531",
   "metadata": {},
   "source": [
    "# eq1. Polynomial regression"
   ]
  },
  {
   "cell_type": "code",
   "execution_count": 5,
   "id": "f51b58bc",
   "metadata": {},
   "outputs": [],
   "source": [
    "x = df.drop(['runs_x'], axis=1)\n",
    "y = df['runs_x']"
   ]
  },
  {
   "cell_type": "code",
   "execution_count": 6,
   "id": "275887fd",
   "metadata": {},
   "outputs": [],
   "source": [
    "from sklearn.model_selection import train_test_split\n",
    "x_train, x_test, y_train, y_test = train_test_split(x,y, test_size=0.2, random_state=1)"
   ]
  },
  {
   "cell_type": "code",
   "execution_count": 7,
   "id": "4d441aee",
   "metadata": {},
   "outputs": [],
   "source": [
    "from sklearn.preprocessing import PolynomialFeatures\n",
    "\n",
    "polynomial_covertor = PolynomialFeatures(degree=2,include_bias=False )\n",
    "#degree = 2 ie, this model aplicable for quadratic eq. ax2 + bx + c\n",
    "# bias=False, for not calculating of c\n",
    "x_poly = polynomial_covertor.fit_transform(x)\n",
    "x_poly = pd.DataFrame(x_poly)\n",
    "# x1|x2|x3|x1^2|x2^2|x3^2|x1*x2|x1*x3|x2*x3 --- this produce input variable"
   ]
  },
  {
   "cell_type": "code",
   "execution_count": 8,
   "id": "65fc5735",
   "metadata": {},
   "outputs": [],
   "source": [
    "from sklearn.model_selection import train_test_split\n",
    "x_train, x_test, y_train, y_test = train_test_split(x_poly, y, test_size=0.3, random_state=42)"
   ]
  },
  {
   "cell_type": "code",
   "execution_count": 9,
   "id": "b739d006",
   "metadata": {},
   "outputs": [
    {
     "data": {
      "text/plain": [
       "LinearRegression()"
      ]
     },
     "execution_count": 9,
     "metadata": {},
     "output_type": "execute_result"
    }
   ],
   "source": [
    "from sklearn.linear_model import LinearRegression\n",
    "model = LinearRegression()\n",
    "model.fit(x_train , y_train)"
   ]
  },
  {
   "cell_type": "code",
   "execution_count": 10,
   "id": "bc4c5d15",
   "metadata": {},
   "outputs": [
    {
     "data": {
      "text/plain": [
       "13.463443887051312"
      ]
     },
     "execution_count": 10,
     "metadata": {},
     "output_type": "execute_result"
    }
   ],
   "source": [
    "model.intercept_"
   ]
  },
  {
   "cell_type": "code",
   "execution_count": 11,
   "id": "4b71c78d",
   "metadata": {},
   "outputs": [
    {
     "data": {
      "text/plain": [
       "array([ 0.1799293 ,  0.79389991, -1.22226361, ..., 14.45744603,\n",
       "        0.        , -4.43422482])"
      ]
     },
     "execution_count": 11,
     "metadata": {},
     "output_type": "execute_result"
    }
   ],
   "source": [
    "model.coef_"
   ]
  },
  {
   "cell_type": "code",
   "execution_count": 12,
   "id": "5635a2e7",
   "metadata": {},
   "outputs": [],
   "source": [
    "train_pred = model.predict(x_train)\n",
    "test_pred = model.predict(x_test)"
   ]
  },
  {
   "cell_type": "code",
   "execution_count": 13,
   "id": "9792e2ad",
   "metadata": {},
   "outputs": [
    {
     "name": "stdout",
     "output_type": "stream",
     "text": [
      "R2_TRAIN : 0.9377360609803429\n",
      "R2_TEST : 0.9326163706259858\n",
      "[0.93720993 0.93356654 0.93405503 0.93556622 0.93299974]\n",
      "ACCURECY : 0.9346794928747842\n"
     ]
    }
   ],
   "source": [
    "print('R2_TRAIN :',model.score(x_train,y_train)) #TRAIN_score\n",
    "print('R2_TEST :',model.score(x_test,y_test))  #TEST_score\n",
    "\n",
    "from sklearn.model_selection import cross_val_score\n",
    "scores = cross_val_score(model,x_poly, y, cv=5)\n",
    "print(scores)\n",
    "print('ACCURECY :',scores.mean())\n",
    "\n"
   ]
  },
  {
   "cell_type": "markdown",
   "id": "9073580a",
   "metadata": {},
   "source": [
    "# 2.lasso regression"
   ]
  },
  {
   "cell_type": "code",
   "execution_count": 14,
   "id": "b21c4c96",
   "metadata": {},
   "outputs": [
    {
     "name": "stdout",
     "output_type": "stream",
     "text": [
      "0.6511016286659982\n",
      "0.6513492209113105\n",
      "[0.65804131 0.64724601 0.64592351 0.65413387 0.64880456]\n"
     ]
    },
    {
     "data": {
      "text/plain": [
       "0.6508298550043428"
      ]
     },
     "execution_count": 14,
     "metadata": {},
     "output_type": "execute_result"
    }
   ],
   "source": [
    "x = df.drop(['runs_x'], axis=1)\n",
    "y = df['runs_x']\n",
    "from sklearn.model_selection import train_test_split\n",
    "x_train, x_test, y_train, y_test = train_test_split(x,y, test_size=0.2, random_state=1)\n",
    "\n",
    "from sklearn.linear_model import Lasso  #import\n",
    "lasso_model = Lasso()            # save as a model name\n",
    "lasso_model.fit(x_train , y_train)  #fit on train data\n",
    "\n",
    "# prediction\n",
    "train_pred = lasso_model.predict(x_train)   \n",
    "test_pred = lasso_model.predict(x_test)\n",
    "\n",
    "#evalution\n",
    "print(lasso_model.score(x_train , y_train))  #train score\n",
    "print(lasso_model.score(x_test , y_test)) #test score\n",
    "\n",
    "#accurecy\n",
    "from sklearn.model_selection import cross_val_score\n",
    "scores = cross_val_score(lasso_model,x, y, cv=5)\n",
    "print(scores)\n",
    "scores.mean()"
   ]
  },
  {
   "cell_type": "markdown",
   "id": "2e173eca",
   "metadata": {},
   "source": [
    "# 3. lasso regression with hyperparameter"
   ]
  },
  {
   "cell_type": "code",
   "execution_count": 15,
   "id": "88a907b6",
   "metadata": {},
   "outputs": [],
   "source": [
    "from sklearn.model_selection import GridSearchCV  # import\n",
    "\n",
    "estimator = Lasso()\n",
    "\n",
    "param_grid = {'alpha':[0.1,0.2,0.3,0.4,0.5,0.6,0.7,0.8,0.9,1]}\n",
    "# we can take range also"
   ]
  },
  {
   "cell_type": "code",
   "execution_count": 16,
   "id": "8e8d20c6",
   "metadata": {},
   "outputs": [
    {
     "data": {
      "text/plain": [
       "{'alpha': 0.1}"
      ]
     },
     "execution_count": 16,
     "metadata": {},
     "output_type": "execute_result"
    }
   ],
   "source": [
    "model_hp = GridSearchCV(estimator , param_grid, cv=5) # save the model name\n",
    "\n",
    "model_hp.fit(x_train , y_train)   # fit the model on train data\n",
    "\n",
    "model_hp.best_params_"
   ]
  },
  {
   "cell_type": "code",
   "execution_count": 17,
   "id": "555526f3",
   "metadata": {},
   "outputs": [
    {
     "name": "stdout",
     "output_type": "stream",
     "text": [
      "R2_TRAIN : 0.6778837308688854\n",
      "R2_TEST : 0.6759218374182041\n",
      "[0.68509027 0.67253274 0.67282193 0.68100188 0.67370968]\n",
      "ACCURECY : 0.6770312973696627\n"
     ]
    }
   ],
   "source": [
    "from sklearn.linear_model import Lasso  #import\n",
    "model_hp = Lasso(alpha=0.1)            # save as a model name\n",
    "model_hp.fit(x_train , y_train)  #fit on train data\n",
    "\n",
    "# prediction\n",
    "\n",
    "train_pred = model_hp.predict(x_train)\n",
    "test_pred = model_hp.predict(x_test)\n",
    "\n",
    "# evalution\n",
    "\n",
    "print('R2_TRAIN :',model_hp.score(x_train , y_train))  # R2 - train\n",
    "print('R2_TEST :',model_hp.score(x_test , y_test))  # R2 - train\n",
    "\n",
    "from sklearn.model_selection import cross_val_score\n",
    "scores = cross_val_score(model_hp,x, y, cv=5)\n",
    "print(scores)\n",
    "print('ACCURECY :',scores.mean())"
   ]
  },
  {
   "cell_type": "markdown",
   "id": "998a4a19",
   "metadata": {},
   "source": [
    "# 4. ridge model"
   ]
  },
  {
   "cell_type": "code",
   "execution_count": 18,
   "id": "0e587395",
   "metadata": {},
   "outputs": [
    {
     "name": "stdout",
     "output_type": "stream",
     "text": [
      "R2_TRAIN : 0.6961319549282452\n",
      "R2_TEST : 0.6961319549282452\n",
      "[0.70303213 0.6877155  0.69460916 0.6998777  0.68881825]\n",
      "ACCURECY : 0.6948105467660175\n"
     ]
    }
   ],
   "source": [
    "from sklearn.linear_model import Ridge  #import\n",
    "ridge_model = Ridge()            # save as a model name\n",
    "ridge_model.fit(x_train , y_train)  #fit on train data\n",
    "\n",
    "# prediction\n",
    "\n",
    "train_pred = ridge_model.predict(x_train)\n",
    "test_pred = ridge_model.predict(x_test)\n",
    "\n",
    "# evalution\n",
    "\n",
    "print('R2_TRAIN :',ridge_model.score(x_train , y_train))  # R2 - train\n",
    "print('R2_TEST :',ridge_model.score(x_train , y_train))  # R2 - train\n",
    "\n",
    "from sklearn.model_selection import cross_val_score\n",
    "scores = cross_val_score(ridge_model,x, y, cv=5)\n",
    "print(scores)\n",
    "print('ACCURECY :',scores.mean())"
   ]
  },
  {
   "cell_type": "markdown",
   "id": "7a886785",
   "metadata": {},
   "source": [
    "# 5. ridge model with hyperparameter"
   ]
  },
  {
   "cell_type": "code",
   "execution_count": 19,
   "id": "abe18b64",
   "metadata": {},
   "outputs": [],
   "source": [
    "from sklearn.model_selection import GridSearchCV  # import\n",
    "\n",
    "estimator = Ridge()\n",
    "\n",
    "param_grid = {'alpha':list(range(1,11))}"
   ]
  },
  {
   "cell_type": "code",
   "execution_count": 20,
   "id": "c8d64058",
   "metadata": {},
   "outputs": [
    {
     "data": {
      "text/plain": [
       "{'alpha': 1}"
      ]
     },
     "execution_count": 20,
     "metadata": {},
     "output_type": "execute_result"
    }
   ],
   "source": [
    "model_hp = GridSearchCV(estimator , param_grid, cv=5) # save the model name\n",
    "\n",
    "model_hp.fit(x_train , y_train)   # fit the model on train data\n",
    "\n",
    "model_hp.best_params_"
   ]
  },
  {
   "cell_type": "code",
   "execution_count": 21,
   "id": "9489b7d3",
   "metadata": {},
   "outputs": [
    {
     "name": "stdout",
     "output_type": "stream",
     "text": [
      "R2_TRAIN : 0.6961319549282452\n",
      "R2_TEST : 0.6961319549282452\n",
      "[0.70303213 0.6877155  0.69460916 0.6998777  0.68881825]\n",
      "ACCURECY : 0.6948105467660175\n"
     ]
    }
   ],
   "source": [
    "from sklearn.linear_model import Ridge  #import\n",
    "ridge_model = Ridge(alpha=1)            # save as a model name\n",
    "ridge_model.fit(x_train , y_train)  #fit on train data\n",
    "\n",
    "# prediction\n",
    "\n",
    "train_pred = ridge_model.predict(x_train)\n",
    "test_pred = ridge_model.predict(x_test)\n",
    "\n",
    "# evalution\n",
    "\n",
    "print('R2_TRAIN :',ridge_model.score(x_train , y_train))  # R2 - train\n",
    "print('R2_TEST :',ridge_model.score(x_train , y_train))  # R2 - train\n",
    "\n",
    "from sklearn.model_selection import cross_val_score\n",
    "scores = cross_val_score(ridge_model,x, y, cv=5)\n",
    "print(scores)\n",
    "print('ACCURECY :',scores.mean())"
   ]
  },
  {
   "cell_type": "markdown",
   "id": "26f0602d",
   "metadata": {},
   "source": [
    "# 6. knn model"
   ]
  },
  {
   "cell_type": "code",
   "execution_count": 22,
   "id": "523f8db6",
   "metadata": {},
   "outputs": [],
   "source": [
    "x = df.drop(['runs_x'], axis=1)\n",
    "y = df['runs_x']\n",
    "from sklearn.model_selection import train_test_split\n",
    "x_train, x_test, y_train, y_test = train_test_split(x,y, test_size=0.2, random_state=1)\n",
    "\n",
    "# scaling the data (compulsory for this model its only done on input not output)\n",
    "\n",
    "from sklearn.preprocessing import StandardScaler\n",
    "scaler = StandardScaler()\n",
    "\n",
    "x_train = scaler.fit_transform(x_train)\n",
    "x_test = scaler.transform(x_test) # only transform not fit"
   ]
  },
  {
   "cell_type": "code",
   "execution_count": 23,
   "id": "3e739f7f",
   "metadata": {},
   "outputs": [
    {
     "name": "stdout",
     "output_type": "stream",
     "text": [
      "train_score 0.997448247218128\n",
      "test_score 0.9951668012608401\n",
      "[0.77126297 0.77155018 0.77743167 0.77981887 0.77170875]\n",
      "ACCURECY : 0.7743544872756313\n"
     ]
    }
   ],
   "source": [
    "from sklearn.neighbors import KNeighborsRegressor\n",
    "knn_model = KNeighborsRegressor()\n",
    "knn_model.fit(x_train, y_train)\n",
    "\n",
    "# prediction\n",
    "\n",
    "ypred_train = knn_model.predict(x_train)\n",
    "ypred_test = knn_model.predict(x_test)\n",
    "\n",
    "# Evalution ie, score\n",
    "print('train_score',knn_model.score(x_train, y_train))\n",
    "print('test_score', knn_model.score(x_test, y_test))\n",
    "\n",
    "from sklearn.model_selection import cross_val_score\n",
    "score = cross_val_score(knn_model, x,y,cv=5)\n",
    "print(score)\n",
    "print('ACCURECY :', score.mean())"
   ]
  },
  {
   "cell_type": "markdown",
   "id": "69b86e9d",
   "metadata": {},
   "source": [
    "# 7. knn with hyperparameter "
   ]
  },
  {
   "cell_type": "code",
   "execution_count": null,
   "id": "4209c292",
   "metadata": {},
   "outputs": [],
   "source": [
    "from sklearn.model_selection import GridSearchCV\n",
    "\n",
    "estimator = KNeighborsRegressor()\n",
    "\n",
    "param_grid = {'n_neighbors' : list(range(1,31)), 'p':[1,2]} #n_neighbors = K value\n",
    "\n",
    "full_cv_classifier = GridSearchCV(estimator, param_grid, cv=5, scoring='accuracy', n_jobs=-1)\n",
    "\n",
    "full_cv_classifier.fit(x_train, y_train)\n",
    "\n",
    "full_cv_classifier.best_params_"
   ]
  },
  {
   "cell_type": "code",
   "execution_count": null,
   "id": "beaa803e",
   "metadata": {},
   "outputs": [],
   "source": [
    "from sklearn.neighbors import KNeighborsRegressor\n",
    "knn_model = KNeighborsRegressor(n_neighbors=20,p=2)\n",
    "knn_model.fit(x_train, y_train)\n",
    "\n",
    "# prediction\n",
    "\n",
    "ypred_train = knn_model.predict(x_train)\n",
    "ypred_test = knn_model.predict(x_test)\n",
    "\n",
    "# Evalution ie, R2\n",
    "\n",
    "print('train_score',knn_model.score(x_train, y_train))\n",
    "print('test_score', knn_model.score(x_test, y_test))\n",
    "\n",
    "score = cross_val_score(knn_model, x,y,cv=5)\n",
    "print(score)\n",
    "print('ACCURECY :', score.mean())"
   ]
  },
  {
   "cell_type": "markdown",
   "id": "eaf6de31",
   "metadata": {},
   "source": [
    "# 8. Decision Tree Model"
   ]
  },
  {
   "cell_type": "code",
   "execution_count": 24,
   "id": "f2cf6891",
   "metadata": {},
   "outputs": [
    {
     "name": "stdout",
     "output_type": "stream",
     "text": [
      "train_score 0.9999137250737097\n",
      "test_score 0.9461782305006002\n",
      "[0.95775659 0.94025964 0.94548447 0.94912142 0.95017498]\n",
      "ACCURECY : 0.9485594197151869\n"
     ]
    }
   ],
   "source": [
    "x = df.drop(['runs_x'], axis=1)\n",
    "y = df['runs_x']\n",
    "from sklearn.model_selection import train_test_split\n",
    "x_train, x_test, y_train, y_test = train_test_split(x,y, test_size=0.2, random_state=1)\n",
    "\n",
    "from sklearn.tree import DecisionTreeRegressor\n",
    "tree_model = DecisionTreeRegressor()\n",
    "tree_model.fit(x_train, y_train)\n",
    "\n",
    "# prediction\n",
    "\n",
    "ypred_train = tree_model.predict(x_train)\n",
    "ypred_test = tree_model.predict(x_test)\n",
    "\n",
    "# Evalution ie, R2\n",
    "\n",
    "print('train_score',tree_model.score(x_train, y_train))\n",
    "print('test_score', tree_model.score(x_test, y_test))\n",
    "\n",
    "from sklearn.model_selection import cross_val_score\n",
    "score = cross_val_score(tree_model, x,y,cv=5)\n",
    "print(score)\n",
    "print('ACCURECY :', score.mean())"
   ]
  },
  {
   "cell_type": "markdown",
   "id": "6b942ecd",
   "metadata": {},
   "source": [
    "# 9. Random Forest"
   ]
  },
  {
   "cell_type": "code",
   "execution_count": 44,
   "id": "2e7ae9b1",
   "metadata": {},
   "outputs": [
    {
     "name": "stdout",
     "output_type": "stream",
     "text": [
      "train_score 0.9967280157230484\n",
      "test_score 0.9778961333087006\n",
      "[0.98025662 0.97636704 0.9787887  0.98009961 0.97855348]\n",
      "ACCURECY : 0.9788130910870464\n"
     ]
    }
   ],
   "source": [
    "x = df.drop(['runs_x'], axis=1)\n",
    "y = df['runs_x']\n",
    "from sklearn.model_selection import train_test_split\n",
    "x_train, x_test, y_train, y_test = train_test_split(x,y, test_size=0.2, random_state=1)\n",
    "\n",
    "# modelling\n",
    "\n",
    "from sklearn.ensemble import RandomForestRegressor\n",
    "random_forest = RandomForestRegressor(random_state=1)\n",
    "random_forest.fit(x_train, y_train)\n",
    "\n",
    "# prediction\n",
    "\n",
    "ypred_train = random_forest.predict(x_train)\n",
    "ypred_test =random_forest.predict(x_test)\n",
    "\n",
    "# Evalution ie, R2\n",
    "\n",
    "print('train_score',random_forest.score(x_train, y_train))\n",
    "print('test_score',random_forest.score(x_test, y_test))\n",
    "\n",
    "from sklearn.model_selection import cross_val_score\n",
    "score = cross_val_score(random_forest, x,y,cv=5)\n",
    "print(score)\n",
    "print('ACCURECY :', score.mean())"
   ]
  },
  {
   "cell_type": "markdown",
   "id": "0762bd13",
   "metadata": {},
   "source": [
    "# 10. Random Forest with hyperparameter"
   ]
  },
  {
   "cell_type": "code",
   "execution_count": 26,
   "id": "ffe2fad7",
   "metadata": {},
   "outputs": [
    {
     "name": "stderr",
     "output_type": "stream",
     "text": [
      "D:\\DSP-DS\\anaconda3\\lib\\site-packages\\sklearn\\model_selection\\_search.py:969: UserWarning: One or more of the test scores are non-finite: [nan nan nan nan nan nan nan nan nan]\n",
      "  warnings.warn(\n"
     ]
    },
    {
     "data": {
      "text/plain": [
       "{'n_estimators': 1}"
      ]
     },
     "execution_count": 26,
     "metadata": {},
     "output_type": "execute_result"
    }
   ],
   "source": [
    "from sklearn.model_selection import GridSearchCV\n",
    "\n",
    "estimator = RandomForestRegressor()\n",
    "param_grid = {'n_estimators': list(range(1,10))}\n",
    "\n",
    "grid = GridSearchCV(estimator,param_grid, scoring = 'accuracy',cv=5, n_jobs=-1)\n",
    "grid.fit(x_train, y_train)\n",
    "grid.best_params_"
   ]
  },
  {
   "cell_type": "code",
   "execution_count": 27,
   "id": "31e6b1d1",
   "metadata": {},
   "outputs": [
    {
     "name": "stdout",
     "output_type": "stream",
     "text": [
      "train_score 0.9622641870149324\n",
      "test_score 0.9100713630532665\n",
      "[0.91081664 0.89649115 0.90479979 0.90761328 0.87961139]\n",
      "ACCURECY : 0.8998664491091974\n"
     ]
    }
   ],
   "source": [
    "from sklearn.ensemble import RandomForestRegressor\n",
    "tree_model = RandomForestRegressor(n_estimators=1, random_state=1)\n",
    "tree_model.fit(x_train, y_train)\n",
    "\n",
    "# prediction\n",
    "\n",
    "ypred_train = tree_model.predict(x_train)\n",
    "ypred_test = tree_model.predict(x_test)\n",
    "\n",
    "# Evalution ie, R2\n",
    "\n",
    "print('train_score',tree_model.score(x_train, y_train))\n",
    "print('test_score', tree_model.score(x_test, y_test))\n",
    "\n",
    "from sklearn.model_selection import cross_val_score\n",
    "score = cross_val_score(tree_model, x,y,cv=5)\n",
    "print(score)\n",
    "print('ACCURECY :', score.mean())"
   ]
  },
  {
   "cell_type": "markdown",
   "id": "188d73ef",
   "metadata": {},
   "source": [
    "# 11. adaboost model"
   ]
  },
  {
   "cell_type": "code",
   "execution_count": 28,
   "id": "a0f8f6cc",
   "metadata": {},
   "outputs": [
    {
     "name": "stdout",
     "output_type": "stream",
     "text": [
      "train_score 0.599536467105037\n",
      "test_score 0.5963608773407739\n",
      "[0.58715382 0.59816034 0.57038923 0.58803854 0.58973157]\n",
      "ACCURECY : 0.5866947013850342\n"
     ]
    }
   ],
   "source": [
    "x = df.drop(['runs_x'], axis=1)\n",
    "y = df['runs_x']\n",
    "from sklearn.model_selection import train_test_split\n",
    "x_train, x_test, y_train, y_test = train_test_split(x,y, test_size=0.2, random_state=1)\n",
    "\n",
    "from sklearn.ensemble import AdaBoostRegressor\n",
    "model = AdaBoostRegressor() # here n_estimator defoult 50\n",
    "model.fit(x_train, y_train)\n",
    "\n",
    "# prediction\n",
    "\n",
    "ypred_train = model.predict(x_train)\n",
    "ypred_test = model.predict(x_test)\n",
    "\n",
    "# Evalution ie, R2\n",
    "\n",
    "print('train_score',model.score(x_train, y_train))\n",
    "print('test_score', model.score(x_test, y_test))\n",
    "\n",
    "from sklearn.model_selection import cross_val_score\n",
    "score = cross_val_score(model, x,y,cv=5)\n",
    "print(score)\n",
    "print('ACCURECY :', score.mean())"
   ]
  },
  {
   "cell_type": "markdown",
   "id": "7cb8daee",
   "metadata": {},
   "source": [
    "# 12. Gradient Boost Model"
   ]
  },
  {
   "cell_type": "code",
   "execution_count": 29,
   "id": "cd05761b",
   "metadata": {},
   "outputs": [
    {
     "name": "stdout",
     "output_type": "stream",
     "text": [
      "train_score 0.7591385564334352\n",
      "test_score 0.7485753148025583\n",
      "[0.75249196 0.7540535  0.75185084 0.75264915 0.74685992]\n",
      "ACCURECY : 0.7515810746870806\n"
     ]
    }
   ],
   "source": [
    "x = df.drop(['runs_x'], axis=1)\n",
    "y = df['runs_x']\n",
    "from sklearn.model_selection import train_test_split\n",
    "x_train, x_test, y_train, y_test = train_test_split(x,y, test_size=0.2, random_state=1)\n",
    "\n",
    "from sklearn.ensemble import GradientBoostingRegressor\n",
    "gb_model = GradientBoostingRegressor() # here n_estimator defoult 50\n",
    "gb_model.fit(x_train, y_train)\n",
    "\n",
    "# prediction\n",
    "\n",
    "ypred_train = gb_model.predict(x_train)\n",
    "ypred_test = gb_model.predict(x_test)\n",
    "\n",
    "# Evalution ie, R2\n",
    "print('train_score',gb_model.score(x_train, y_train))\n",
    "print('test_score', gb_model.score(x_test, y_test))\n",
    "\n",
    "from sklearn.model_selection import cross_val_score\n",
    "score = cross_val_score(gb_model, x,y,cv=5)\n",
    "print(score)\n",
    "print('ACCURECY :', score.mean())"
   ]
  },
  {
   "cell_type": "markdown",
   "id": "1033cd66",
   "metadata": {},
   "source": [
    "# 13. Gradient Boost with Hyperparameter"
   ]
  },
  {
   "cell_type": "code",
   "execution_count": 30,
   "id": "d1983339",
   "metadata": {},
   "outputs": [
    {
     "name": "stderr",
     "output_type": "stream",
     "text": [
      "D:\\DSP-DS\\anaconda3\\lib\\site-packages\\sklearn\\model_selection\\_search.py:969: UserWarning: One or more of the test scores are non-finite: [nan nan nan nan nan nan nan nan nan nan nan nan]\n",
      "  warnings.warn(\n"
     ]
    },
    {
     "data": {
      "text/plain": [
       "{'learning_rate': 0.1, 'n_estimators': 1}"
      ]
     },
     "execution_count": 30,
     "metadata": {},
     "output_type": "execute_result"
    }
   ],
   "source": [
    "from sklearn.model_selection import GridSearchCV\n",
    "\n",
    "estimator = GradientBoostingRegressor()\n",
    "\n",
    "param_grid = {'n_estimators': [1,5,10,20],\n",
    "              'learning_rate':[0.1,0.2,0.3]}\n",
    "\n",
    "grid = GridSearchCV(estimator, param_grid, cv=5, scoring = 'accuracy', n_jobs=-1)\n",
    "\n",
    "grid.fit(x_train, y_train)\n",
    "\n",
    "grid.best_params_"
   ]
  },
  {
   "cell_type": "code",
   "execution_count": 31,
   "id": "d6e28530",
   "metadata": {},
   "outputs": [
    {
     "name": "stdout",
     "output_type": "stream",
     "text": [
      "train_score 0.11063053270976997\n",
      "test_score 0.10952371774333991\n",
      "[0.11035021 0.11056807 0.11010799 0.11146951 0.10864516]\n",
      "ACCURECY : 0.11022818886088732\n"
     ]
    }
   ],
   "source": [
    "from sklearn.ensemble import GradientBoostingRegressor\n",
    "gb_model = GradientBoostingRegressor(n_estimators=1  ,learning_rate=0.1) # here n_estimator defoult 50\n",
    "gb_model.fit(x_train, y_train)\n",
    "\n",
    "# prediction\n",
    "\n",
    "ypred_train = gb_model.predict(x_train)\n",
    "ypred_test = gb_model.predict(x_test)\n",
    "\n",
    "# Evalution ie, R2\n",
    "print('train_score',gb_model.score(x_train, y_train))\n",
    "print('test_score', gb_model.score(x_test, y_test))\n",
    "\n",
    "from sklearn.model_selection import cross_val_score\n",
    "score = cross_val_score(gb_model, x,y,cv=5)\n",
    "print(score)\n",
    "print('ACCURECY :', score.mean())"
   ]
  },
  {
   "cell_type": "markdown",
   "id": "c12b8247",
   "metadata": {},
   "source": [
    "# 14. XG Boost Model"
   ]
  },
  {
   "cell_type": "code",
   "execution_count": 32,
   "id": "0d298741",
   "metadata": {},
   "outputs": [
    {
     "name": "stdout",
     "output_type": "stream",
     "text": [
      "Requirement already satisfied: xgboost in d:\\dsp-ds\\anaconda3\\lib\\site-packages (1.6.2)\n",
      "Requirement already satisfied: scipy in d:\\dsp-ds\\anaconda3\\lib\\site-packages (from xgboost) (1.9.1)\n",
      "Requirement already satisfied: numpy in d:\\dsp-ds\\anaconda3\\lib\\site-packages (from xgboost) (1.21.5)\n"
     ]
    }
   ],
   "source": [
    "! pip install xgboost"
   ]
  },
  {
   "cell_type": "code",
   "execution_count": 33,
   "id": "e64d49a8",
   "metadata": {},
   "outputs": [
    {
     "name": "stdout",
     "output_type": "stream",
     "text": [
      "train_score 0.9636552572350728\n",
      "test_score 0.9541400240969647\n",
      "[0.95381371 0.95332316 0.95224957 0.95505386 0.95287474]\n",
      "ACCURECY : 0.9534630093614431\n"
     ]
    }
   ],
   "source": [
    "x = df.drop(['runs_x'], axis=1)\n",
    "y = df['runs_x']\n",
    "from sklearn.model_selection import train_test_split\n",
    "x_train, x_test, y_train, y_test = train_test_split(x,y, test_size=0.2, random_state=1)\n",
    "\n",
    "from xgboost import XGBRegressor\n",
    "xgb_model = XGBRegressor() # here n_estimator defoult 50\n",
    "xgb_model.fit(x_train, y_train)\n",
    "\n",
    "# prediction\n",
    "\n",
    "ypred_train = xgb_model.predict(x_train)\n",
    "ypred_test = xgb_model.predict(x_test)\n",
    "\n",
    "# Evalution ie, R2\n",
    "\n",
    "print('train_score',xgb_model.score(x_train, y_train))\n",
    "print('test_score', xgb_model.score(x_test, y_test))\n",
    "\n",
    "from sklearn.model_selection import cross_val_score\n",
    "score = cross_val_score(xgb_model, x,y,cv=5)\n",
    "print(score)\n",
    "print('ACCURECY :', score.mean())"
   ]
  },
  {
   "cell_type": "markdown",
   "id": "d7ec3f7b",
   "metadata": {},
   "source": [
    "# 14. XG Boost Model with hyperparameter"
   ]
  },
  {
   "cell_type": "code",
   "execution_count": 34,
   "id": "70449619",
   "metadata": {},
   "outputs": [
    {
     "name": "stderr",
     "output_type": "stream",
     "text": [
      "D:\\DSP-DS\\anaconda3\\lib\\site-packages\\sklearn\\model_selection\\_search.py:969: UserWarning: One or more of the test scores are non-finite: [nan nan nan nan nan nan nan nan nan nan nan nan nan nan nan nan nan nan\n",
      " nan nan nan nan nan nan nan nan nan nan nan nan]\n",
      "  warnings.warn(\n"
     ]
    },
    {
     "data": {
      "text/plain": [
       "{'gamma': 0.07, 'max_depth': 1, 'n_estimators': 60}"
      ]
     },
     "execution_count": 34,
     "metadata": {},
     "output_type": "execute_result"
    }
   ],
   "source": [
    "from sklearn.model_selection import GridSearchCV\n",
    "\n",
    "estimator = XGBRegressor()\n",
    "\n",
    "param_grid = {'n_estimators': [60,70,80,90,100],\n",
    "              'max_depth':[1,2,3],\n",
    "              'gamma':[0.07,0.08]\n",
    "             } # learning rate = step size towords minima\n",
    "\n",
    "grid = GridSearchCV(estimator, param_grid, cv=5, scoring = 'accuracy', n_jobs=-1)\n",
    "\n",
    "grid.fit(x_train, y_train)\n",
    "\n",
    "grid.best_params_"
   ]
  },
  {
   "cell_type": "code",
   "execution_count": 35,
   "id": "4b8869f3",
   "metadata": {},
   "outputs": [
    {
     "name": "stdout",
     "output_type": "stream",
     "text": [
      "train_score 0.6521925731185725\n",
      "test_score 0.6482510120451808\n",
      "[0.65901472 0.64414325 0.64901412 0.65778951 0.64271888]\n",
      "ACCURECY : 0.6505360979301211\n"
     ]
    }
   ],
   "source": [
    "from xgboost import XGBRegressor\n",
    "xgb_model = XGBRegressor(gamma=0.07, max_depth=1, n_estimators=60) # here n_estimator defoult 50\n",
    "xgb_model.fit(x_train, y_train)\n",
    "\n",
    "# prediction\n",
    "\n",
    "ypred_train = xgb_model.predict(x_train)\n",
    "ypred_test = xgb_model.predict(x_test)\n",
    "\n",
    "# Evalution ie, R2\n",
    "\n",
    "print('train_score',xgb_model.score(x_train, y_train))\n",
    "print('test_score', xgb_model.score(x_test, y_test))\n",
    "\n",
    "from sklearn.model_selection import cross_val_score\n",
    "score = cross_val_score(xgb_model, x,y,cv=5)\n",
    "print(score)\n",
    "print('ACCURECY :', score.mean())"
   ]
  },
  {
   "cell_type": "markdown",
   "id": "34df3c3b",
   "metadata": {},
   "source": [
    "# NOTE\n",
    "# BEST MODEL IS RANDOM FOREST WITH ACCURECY OF 97.88%"
   ]
  },
  {
   "cell_type": "code",
   "execution_count": 46,
   "id": "589f0509",
   "metadata": {},
   "outputs": [
    {
     "data": {
      "text/plain": [
       "['t20_score_prediction.joblib']"
      ]
     },
     "execution_count": 46,
     "metadata": {},
     "output_type": "execute_result"
    }
   ],
   "source": [
    "# save the model \n",
    "\n",
    "from joblib import dump\n",
    "dump(random_forest, 't20_score_prediction.joblib')"
   ]
  },
  {
   "cell_type": "code",
   "execution_count": 47,
   "id": "f1ffcd0b",
   "metadata": {},
   "outputs": [],
   "source": [
    "# load model\n",
    "from joblib import load\n",
    "loaded_model = load( 't20_score_prediction.joblib')"
   ]
  }
 ],
 "metadata": {
  "kernelspec": {
   "display_name": "Python 3 (ipykernel)",
   "language": "python",
   "name": "python3"
  },
  "language_info": {
   "codemirror_mode": {
    "name": "ipython",
    "version": 3
   },
   "file_extension": ".py",
   "mimetype": "text/x-python",
   "name": "python",
   "nbconvert_exporter": "python",
   "pygments_lexer": "ipython3",
   "version": "3.9.13"
  }
 },
 "nbformat": 4,
 "nbformat_minor": 5
}
